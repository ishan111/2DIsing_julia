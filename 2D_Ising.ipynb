{
 "cells": [
  {
   "cell_type": "markdown",
   "metadata": {},
   "source": [
    "# Metropolis Monte Carlo for 2D Ising Model\n",
    "\n",
    "$\\textbf{2D Ising Model:}$Ising Model is one of the simple yet effective model which consists of a lattice with fixed number of sites. Each Lattice site has a spin with two degree of freedom (Si = ±1). Spins can either align themselves in upward direction(Si = +1) or in the downward(Si = +1) direction. The shape of the lattice here is s square . Thus, a two dimensional Ising Model with a size of L will consist of $L^2$ spins.\n",
    "\n",
    "$\\textbf{NOTE:}$ Use $\\textit{Shift+Enter}$ to run the codes written in the cells."
   ]
  },
  {
   "cell_type": "markdown",
   "metadata": {},
   "source": [
    "## Need for Metropolis Algorithm\n",
    "$\\textit{Probabaility}$ of each microstate is given by:\n",
    "$\\begin{align}\\tag{2.1}\n",
    "P_c = \\dfrac{e^{-\\beta \\hat{H}_i}}{\\sum_ce^{-\\beta \\hat{H}_i}}\n",
    "\\end{align}$\n",
    "\n",
    "To get the precise value of magnetization, we must calculate the magnetization for as many microstates/configurations as possible and then take the mean. Generating each and every microstate is a hopeless effort (For a small lattice size of L=10, number of possible microstates are $2^{100}$ ).\n",
    "$\\begin{align}\\tag{1.1}\n",
    "\\langle M\\rangle  = \\dfrac{\\sum_{c=1}^{2^{100}}m_c\\times P_c}{2^{100}}\n",
    "\\end{align}$\n",
    "\n",
    "But as in (1.1) the probability of every microstate is different. Without generating every single configuration, one can sample only those configurations which contribute most to the average (3.2). This is known as importance sampling. Here, the role of Metropolis Monte Carlo comes in. This importance sampling based algorithm reduces the computational time by a significant amount.\n",
    "\n",
    "### Steps for 2D Ising simulation:\n",
    "\n",
    "1.Create a configuration with random alignment of spins.\n",
    "\n",
    "2.Randomly select a spin and flip it, to generate a trial configuration.\n",
    "\n",
    "3.Compute the energy difference ($\\Delta E = E_B-E_A$).\n",
    "\n",
    "4.If $\\Delta E<0$, accept the trial configuration with acceptance probability 1.\n",
    "\n",
    "5.If $\\Delta E>0$, accept the trial configuration with acceptance probability $e^{-\\Delta E}$.\n",
    "\n",
    "6.Perform sampling for large number of cycles."
   ]
  },
  {
   "cell_type": "markdown",
   "metadata": {},
   "source": [
    "## Code for equilibration\n",
    "This function is called by the main file whenever necessary."
   ]
  },
  {
   "cell_type": "code",
   "execution_count": 189,
   "metadata": {},
   "outputs": [
    {
     "name": "stderr",
     "output_type": "stream",
     "text": [
      "WARNING: Method definition Equilibration(Any, Any, Any, Any) in module Main at In[187]:4 overwritten at In[189]:4.\n"
     ]
    },
    {
     "data": {
      "text/plain": [
       "Equilibration (generic function with 2 methods)"
      ]
     },
     "execution_count": 189,
     "metadata": {},
     "output_type": "execute_result"
    }
   ],
   "source": [
    "function Equilibration(n_grid,T,J,L)\n",
    "\n",
    "#creating random arrangement\n",
    "grid=randn(n_grid,n_grid)\n",
    "for i in 1:n_grid^2\n",
    "    if grid[i]>0.5\n",
    "        grid[i]=1\n",
    "    else\n",
    "        grid[i]=-1\n",
    "    end\n",
    "end\n",
    "\n",
    "numIters = (2^9)*length(grid)\n",
    "\n",
    "#pick a random spin\n",
    "for iter in 1:numIters\n",
    "    row = rand(1:n_grid)\n",
    "    col = rand(1:n_grid)\n",
    "    \n",
    "    #nearest neighbors\n",
    "    if col==1\n",
    "        left=n_grid\n",
    "    else\n",
    "        left=col-1\n",
    "    end\n",
    "    if col==n_grid\n",
    "        right=1\n",
    "    else\n",
    "        right=col+1\n",
    "    end\n",
    "    if row==1\n",
    "        below=n_grid\n",
    "    else\n",
    "        below=row-1\n",
    "    end\n",
    "    if row==n_grid\n",
    "        above=1\n",
    "    else\n",
    "        above=row+1\n",
    "    end\n",
    "\n",
    "    neighbors=grid[above,col]+grid[row,left]+grid[row,right]+grid[below,col]\n",
    "    \n",
    "    #Energy change after spin flip\n",
    "    dE = 2*(J*grid[row,col]*neighbors)\n",
    "    \n",
    "    #Spin flip condition\n",
    "    if dE <= 0\n",
    "        grid[row,col] = -grid[row,col]\n",
    "    else\n",
    "        prob=exp(-dE/T)\n",
    "        r=rand(1)\n",
    "        if  r[1,1] <= prob\n",
    "            grid[row,col] = -grid[row,col]\n",
    "        end\n",
    "    end\n",
    "end\n",
    "return grid\n",
    "end"
   ]
  },
  {
   "cell_type": "markdown",
   "metadata": {},
   "source": [
    "## Code for Calculating average properties (Production Run)\n",
    "This function is called by the main file whenever necessary."
   ]
  },
  {
   "cell_type": "code",
   "execution_count": 190,
   "metadata": {},
   "outputs": [
    {
     "name": "stderr",
     "output_type": "stream",
     "text": [
      "WARNING: Method definition Production(Any, Any, Any, Any, Any) in module Main at In[188]:3 overwritten at In[190]:3.\n"
     ]
    }
   ],
   "source": [
    "#Production\n",
    "function Production(n_grid,T,J,L,grid)\n",
    "Mmean=zeros(1,L)\n",
    "Emean=zeros(1,L)\n",
    "for iter in 1:L\n",
    "    row = rand(1:n_grid)\n",
    "    col = rand(1:n_grid)\n",
    "    \n",
    "    #nearest neighbors\n",
    "    if col==1\n",
    "        left=n_grid\n",
    "    else\n",
    "        left=col-1\n",
    "    end\n",
    "    if col==n_grid\n",
    "        right=1\n",
    "    else\n",
    "        right=col+1\n",
    "    end\n",
    "    if row==1\n",
    "        below=n_grid\n",
    "    else\n",
    "        below=row-1\n",
    "    end\n",
    "    if row==n_grid\n",
    "        above=1\n",
    "    else\n",
    "        above=row+1\n",
    "    end\n",
    "\n",
    "    neighbors=grid[above,col]+grid[row,left]+grid[row,right]+grid[below,col]\n",
    "    \n",
    "    #Energy change after spin flip\n",
    "    dE = 2*(J*grid[row,col]*neighbors)\n",
    "    \n",
    "    #Spin flip condition\n",
    "    if dE <= 0\n",
    "        grid[row,col] = -grid[row,col]\n",
    "    else\n",
    "        prob=exp(-dE/T)\n",
    "        r=rand(1)\n",
    "        if  r[1,1] <= prob\n",
    "            grid[row,col] = -grid[row,col]\n",
    "        end\n",
    "    end\n",
    "    \n",
    "    #Calculating Properties\n",
    "    Mmean[1,iter]=mean(grid)\n",
    "    \n",
    "    #sumofneighbors=circshift(grid,[0 1])+circshift(grid,[0 -1])+circshift(grid,[1 0])+circshift(grid,[-1 0])\n",
    "    #Em = - J*grid.*sumofneighbors\n",
    "    #E=0.5*sum(Em)\n",
    "    #Emean[1,iter]=E/length(grid)\n",
    "end\n",
    "gridpr=grid;\n",
    "Ms=mean(Mmean);\n",
    "#Es=mean(Emean)\n",
    "xs=(mean(Mmean.^2)-mean(Mmean)^2)/T;\n",
    "#Cs=(mean(Emean.^2)-mean(Emean)^2)/T^2\n",
    "return gridpr, Ms, xs\n",
    "end"
   ]
  },
  {
   "cell_type": "markdown",
   "metadata": {},
   "source": [
    "## Code for generating equilibrated arrangements by calling Equilibration\n",
    "This function generates equilibrated arrangement for different temperatures.\n",
    "It is called by the main code whenever necessary."
   ]
  },
  {
   "cell_type": "code",
   "execution_count": 193,
   "metadata": {},
   "outputs": [
    {
     "name": "stderr",
     "output_type": "stream",
     "text": [
      "WARNING: Method definition ising_over_temp(Any, Any, Any, Any, Any, Any) in module Main at In[191]:2 overwritten at In[193]:2.\n"
     ]
    },
    {
     "data": {
      "text/plain": [
       "ising_over_temp (generic function with 1 method)"
      ]
     },
     "execution_count": 193,
     "metadata": {},
     "output_type": "execute_result"
    }
   ],
   "source": [
    "function ising_over_temp(n_grid,J,L,Tmin,Tinc,Tmax)\n",
    "len = floor((Tmax-Tmin)/Tinc);\n",
    "len=convert(Int64,len);\n",
    "#allocating required memory\n",
    "gridqm=Array{Array{Int8}}(1,len+1);\n",
    "Ts=Array{Float64}(1,len+1);\n",
    "i=1;\n",
    "\n",
    "# The temperature loop\n",
    "print(\"equilibration started!\",\"\\n\");\n",
    "print(\"Number of steps = \",(2^8)*n_grid^2,\"\\n\");\n",
    "for T in Tmin:Tinc:Tmax\n",
    "    grid = Equilibration(n_grid, T, J, L);\n",
    "\n",
    "    #storing equilibrated arrangements with temperature \n",
    "    gridqm[1,i] = grid;\n",
    "    Ts[1,i] = T;\n",
    "    i=i+1;\n",
    "end\n",
    "print(\"equilibration finished!\",\"\\n\");\n",
    "len = length(Ts);\n",
    "return gridqm, Ts, len\n",
    "end"
   ]
  },
  {
   "cell_type": "markdown",
   "metadata": {},
   "source": [
    "## Main Code with input parameters\n",
    "$\\textbf{NOTE:}$Run all the codes in above cells before running this main code as it uses functions which are defined above.\n",
    "\n",
    "This is the main code that calculates magnetisation and susceptibility.\n",
    "\n",
    "Change the input parameters within next cell and press $\\textit{Shift+Enter}$ to run the simulation."
   ]
  },
  {
   "cell_type": "code",
   "execution_count": 200,
   "metadata": {},
   "outputs": [
    {
     "name": "stdout",
     "output_type": "stream",
     "text": [
      "equilibration started!\n",
      "Number of steps = 409600\n",
      "equilibration finished!\n",
      "production run = 1\n",
      "production run = 2\n",
      "production run = "
     ]
    },
    {
     "data": {
      "text/html": [
       "<script src=\"/home/prateek/.julia/v0.5/Plots/src/backends/../../deps/plotly-latest.min.js\"></script>    <div id=\"f08bfe90-80d6-4302-9b04-2fb107f29012\" style=\"width:600px;height:400px;\"></div>\n",
       "    <script>\n",
       "    PLOT = document.getElementById('f08bfe90-80d6-4302-9b04-2fb107f29012');\n",
       "    Plotly.plot(PLOT, [{\"yaxis\":\"y\",\"y\":[-0.9992887670833338],\"showlegend\":true,\"name\":\"y1\",\"type\":\"scatter\",\"xaxis\":\"x\",\"colorbar\":{\"title\":\"\"},\"x\":[1.0],\"mode\":\"markers\",\"marker\":{\"symbol\":\"circle\",\"line\":{\"width\":1,\"color\":\"rgba(0, 0, 0, 1.000)\"},\"size\":8,\"color\":\"rgba(255, 0, 0, 1.000)\"}},{\"yaxis\":\"y\",\"y\":[-0.998997980833334],\"showlegend\":true,\"name\":\"y2\",\"type\":\"scatter\",\"xaxis\":\"x\",\"colorbar\":{\"title\":\"\"},\"x\":[1.05],\"mode\":\"markers\",\"marker\":{\"symbol\":\"circle\",\"line\":{\"width\":1,\"color\":\"rgba(0, 0, 0, 1.000)\"},\"size\":8,\"color\":\"rgba(255, 0, 0, 1.000)\"}},{\"yaxis\":\"y\",\"y\":[-0.9984220620833344],\"showlegend\":true,\"name\":\"y3\",\"type\":\"scatter\",\"xaxis\":\"x\",\"colorbar\":{\"title\":\"\"},\"x\":[1.1],\"mode\":\"markers\",\"marker\":{\"symbol\":\"circle\",\"line\":{\"width\":1,\"color\":\"rgba(0, 0, 0, 1.000)\"},\"size\":8,\"color\":\"rgba(255, 0, 0, 1.000)\"}},{\"yaxis\":\"y\",\"y\":[-0.9978621925000015],\"showlegend\":true,\"name\":\"y4\",\"type\":\"scatter\",\"xaxis\":\"x\",\"colorbar\":{\"title\":\"\"},\"x\":[1.15],\"mode\":\"markers\",\"marker\":{\"symbol\":\"circle\",\"line\":{\"width\":1,\"color\":\"rgba(0, 0, 0, 1.000)\"},\"size\":8,\"color\":\"rgba(255, 0, 0, 1.000)\"}},{\"yaxis\":\"y\",\"y\":[-0.9970127250000018],\"showlegend\":true,\"name\":\"y5\",\"type\":\"scatter\",\"xaxis\":\"x\",\"colorbar\":{\"title\":\"\"},\"x\":[1.2],\"mode\":\"markers\",\"marker\":{\"symbol\":\"circle\",\"line\":{\"width\":1,\"color\":\"rgba(0, 0, 0, 1.000)\"},\"size\":8,\"color\":\"rgba(255, 0, 0, 1.000)\"}},{\"yaxis\":\"y\",\"y\":[-0.9959858595833357],\"showlegend\":true,\"name\":\"y6\",\"type\":\"scatter\",\"xaxis\":\"x\",\"colorbar\":{\"title\":\"\"},\"x\":[1.25],\"mode\":\"markers\",\"marker\":{\"symbol\":\"circle\",\"line\":{\"width\":1,\"color\":\"rgba(0, 0, 0, 1.000)\"},\"size\":8,\"color\":\"rgba(255, 0, 0, 1.000)\"}},{\"yaxis\":\"y\",\"y\":[-0.9947226616666696],\"showlegend\":true,\"name\":\"y7\",\"type\":\"scatter\",\"xaxis\":\"x\",\"colorbar\":{\"title\":\"\"},\"x\":[1.3],\"mode\":\"markers\",\"marker\":{\"symbol\":\"circle\",\"line\":{\"width\":1,\"color\":\"rgba(0, 0, 0, 1.000)\"},\"size\":8,\"color\":\"rgba(255, 0, 0, 1.000)\"}},{\"yaxis\":\"y\",\"y\":[-0.9932825295833365],\"showlegend\":true,\"name\":\"y8\",\"type\":\"scatter\",\"xaxis\":\"x\",\"colorbar\":{\"title\":\"\"},\"x\":[1.35],\"mode\":\"markers\",\"marker\":{\"symbol\":\"circle\",\"line\":{\"width\":1,\"color\":\"rgba(0, 0, 0, 1.000)\"},\"size\":8,\"color\":\"rgba(255, 0, 0, 1.000)\"}},{\"yaxis\":\"y\",\"y\":[-0.9911137895833364],\"showlegend\":true,\"name\":\"y9\",\"type\":\"scatter\",\"xaxis\":\"x\",\"colorbar\":{\"title\":\"\"},\"x\":[1.4],\"mode\":\"markers\",\"marker\":{\"symbol\":\"circle\",\"line\":{\"width\":1,\"color\":\"rgba(0, 0, 0, 1.000)\"},\"size\":8,\"color\":\"rgba(255, 0, 0, 1.000)\"}},{\"yaxis\":\"y\",\"y\":[-0.9893782891666693],\"showlegend\":true,\"name\":\"y10\",\"type\":\"scatter\",\"xaxis\":\"x\",\"colorbar\":{\"title\":\"\"},\"x\":[1.45],\"mode\":\"markers\",\"marker\":{\"symbol\":\"circle\",\"line\":{\"width\":1,\"color\":\"rgba(0, 0, 0, 1.000)\"},\"size\":8,\"color\":\"rgba(255, 0, 0, 1.000)\"}},{\"yaxis\":\"y\",\"y\":[-0.986550547083335],\"showlegend\":true,\"name\":\"y11\",\"type\":\"scatter\",\"xaxis\":\"x\",\"colorbar\":{\"title\":\"\"},\"x\":[1.5],\"mode\":\"markers\",\"marker\":{\"symbol\":\"circle\",\"line\":{\"width\":1,\"color\":\"rgba(0, 0, 0, 1.000)\"},\"size\":8,\"color\":\"rgba(255, 0, 0, 1.000)\"}},{\"yaxis\":\"y\",\"y\":[-0.9833389120833331],\"showlegend\":true,\"name\":\"y12\",\"type\":\"scatter\",\"xaxis\":\"x\",\"colorbar\":{\"title\":\"\"},\"x\":[1.55],\"mode\":\"markers\",\"marker\":{\"symbol\":\"circle\",\"line\":{\"width\":1,\"color\":\"rgba(0, 0, 0, 1.000)\"},\"size\":8,\"color\":\"rgba(255, 0, 0, 1.000)\"}},{\"yaxis\":\"y\",\"y\":[-0.9793041633333319],\"showlegend\":true,\"name\":\"y13\",\"type\":\"scatter\",\"xaxis\":\"x\",\"colorbar\":{\"title\":\"\"},\"x\":[1.6],\"mode\":\"markers\",\"marker\":{\"symbol\":\"circle\",\"line\":{\"width\":1,\"color\":\"rgba(0, 0, 0, 1.000)\"},\"size\":8,\"color\":\"rgba(255, 0, 0, 1.000)\"}},{\"yaxis\":\"y\",\"y\":[-0.9751091104166651],\"showlegend\":true,\"name\":\"y14\",\"type\":\"scatter\",\"xaxis\":\"x\",\"colorbar\":{\"title\":\"\"},\"x\":[1.65],\"mode\":\"markers\",\"marker\":{\"symbol\":\"circle\",\"line\":{\"width\":1,\"color\":\"rgba(0, 0, 0, 1.000)\"},\"size\":8,\"color\":\"rgba(255, 0, 0, 1.000)\"}},{\"yaxis\":\"y\",\"y\":[-0.9704378408333325],\"showlegend\":true,\"name\":\"y15\",\"type\":\"scatter\",\"xaxis\":\"x\",\"colorbar\":{\"title\":\"\"},\"x\":[1.7],\"mode\":\"markers\",\"marker\":{\"symbol\":\"circle\",\"line\":{\"width\":1,\"color\":\"rgba(0, 0, 0, 1.000)\"},\"size\":8,\"color\":\"rgba(255, 0, 0, 1.000)\"}},{\"yaxis\":\"y\",\"y\":[-0.9643817458333337],\"showlegend\":true,\"name\":\"y16\",\"type\":\"scatter\",\"xaxis\":\"x\",\"colorbar\":{\"title\":\"\"},\"x\":[1.75],\"mode\":\"markers\",\"marker\":{\"symbol\":\"circle\",\"line\":{\"width\":1,\"color\":\"rgba(0, 0, 0, 1.000)\"},\"size\":8,\"color\":\"rgba(255, 0, 0, 1.000)\"}},{\"yaxis\":\"y\",\"y\":[-0.9582526425000006],\"showlegend\":true,\"name\":\"y17\",\"type\":\"scatter\",\"xaxis\":\"x\",\"colorbar\":{\"title\":\"\"},\"x\":[1.8],\"mode\":\"markers\",\"marker\":{\"symbol\":\"circle\",\"line\":{\"width\":1,\"color\":\"rgba(0, 0, 0, 1.000)\"},\"size\":8,\"color\":\"rgba(255, 0, 0, 1.000)\"}},{\"yaxis\":\"y\",\"y\":[-0.9493983070833335],\"showlegend\":true,\"name\":\"y18\",\"type\":\"scatter\",\"xaxis\":\"x\",\"colorbar\":{\"title\":\"\"},\"x\":[1.85],\"mode\":\"markers\",\"marker\":{\"symbol\":\"circle\",\"line\":{\"width\":1,\"color\":\"rgba(0, 0, 0, 1.000)\"},\"size\":8,\"color\":\"rgba(255, 0, 0, 1.000)\"}},{\"yaxis\":\"y\",\"y\":[-0.9399897316666663],\"showlegend\":true,\"name\":\"y19\",\"type\":\"scatter\",\"xaxis\":\"x\",\"colorbar\":{\"title\":\"\"},\"x\":[1.9],\"mode\":\"markers\",\"marker\":{\"symbol\":\"circle\",\"line\":{\"width\":1,\"color\":\"rgba(0, 0, 0, 1.000)\"},\"size\":8,\"color\":\"rgba(255, 0, 0, 1.000)\"}},{\"yaxis\":\"y\",\"y\":[-0.9256678958333332],\"showlegend\":true,\"name\":\"y20\",\"type\":\"scatter\",\"xaxis\":\"x\",\"colorbar\":{\"title\":\"\"},\"x\":[1.95],\"mode\":\"markers\",\"marker\":{\"symbol\":\"circle\",\"line\":{\"width\":1,\"color\":\"rgba(0, 0, 0, 1.000)\"},\"size\":8,\"color\":\"rgba(255, 0, 0, 1.000)\"}},{\"yaxis\":\"y\",\"y\":[-0.9116523904166668],\"showlegend\":true,\"name\":\"y21\",\"type\":\"scatter\",\"xaxis\":\"x\",\"colorbar\":{\"title\":\"\"},\"x\":[2.0],\"mode\":\"markers\",\"marker\":{\"symbol\":\"circle\",\"line\":{\"width\":1,\"color\":\"rgba(0, 0, 0, 1.000)\"},\"size\":8,\"color\":\"rgba(255, 0, 0, 1.000)\"}},{\"yaxis\":\"y\",\"y\":[-0.8927627266666667],\"showlegend\":true,\"name\":\"y22\",\"type\":\"scatter\",\"xaxis\":\"x\",\"colorbar\":{\"title\":\"\"},\"x\":[2.05],\"mode\":\"markers\",\"marker\":{\"symbol\":\"circle\",\"line\":{\"width\":1,\"color\":\"rgba(0, 0, 0, 1.000)\"},\"size\":8,\"color\":\"rgba(255, 0, 0, 1.000)\"}},{\"yaxis\":\"y\",\"y\":[-0.8774830170833333],\"showlegend\":true,\"name\":\"y23\",\"type\":\"scatter\",\"xaxis\":\"x\",\"colorbar\":{\"title\":\"\"},\"x\":[2.1],\"mode\":\"markers\",\"marker\":{\"symbol\":\"circle\",\"line\":{\"width\":1,\"color\":\"rgba(0, 0, 0, 1.000)\"},\"size\":8,\"color\":\"rgba(255, 0, 0, 1.000)\"}},{\"yaxis\":\"y\",\"y\":[-0.8383535729166667],\"showlegend\":true,\"name\":\"y24\",\"type\":\"scatter\",\"xaxis\":\"x\",\"colorbar\":{\"title\":\"\"},\"x\":[2.15],\"mode\":\"markers\",\"marker\":{\"symbol\":\"circle\",\"line\":{\"width\":1,\"color\":\"rgba(0, 0, 0, 1.000)\"},\"size\":8,\"color\":\"rgba(255, 0, 0, 1.000)\"}},{\"yaxis\":\"y\",\"y\":[-0.8043601145833332],\"showlegend\":true,\"name\":\"y25\",\"type\":\"scatter\",\"xaxis\":\"x\",\"colorbar\":{\"title\":\"\"},\"x\":[2.2],\"mode\":\"markers\",\"marker\":{\"symbol\":\"circle\",\"line\":{\"width\":1,\"color\":\"rgba(0, 0, 0, 1.000)\"},\"size\":8,\"color\":\"rgba(255, 0, 0, 1.000)\"}},{\"yaxis\":\"y\",\"y\":[-0.7167751004166667],\"showlegend\":true,\"name\":\"y26\",\"type\":\"scatter\",\"xaxis\":\"x\",\"colorbar\":{\"title\":\"\"},\"x\":[2.25],\"mode\":\"markers\",\"marker\":{\"symbol\":\"circle\",\"line\":{\"width\":1,\"color\":\"rgba(0, 0, 0, 1.000)\"},\"size\":8,\"color\":\"rgba(255, 0, 0, 1.000)\"}},{\"yaxis\":\"y\",\"y\":[0.15546537499999996],\"showlegend\":true,\"name\":\"y27\",\"type\":\"scatter\",\"xaxis\":\"x\",\"colorbar\":{\"title\":\"\"},\"x\":[2.3],\"mode\":\"markers\",\"marker\":{\"symbol\":\"circle\",\"line\":{\"width\":1,\"color\":\"rgba(0, 0, 0, 1.000)\"},\"size\":8,\"color\":\"rgba(255, 0, 0, 1.000)\"}},{\"yaxis\":\"y\",\"y\":[0.3529930725],\"showlegend\":true,\"name\":\"y28\",\"type\":\"scatter\",\"xaxis\":\"x\",\"colorbar\":{\"title\":\"\"},\"x\":[2.35],\"mode\":\"markers\",\"marker\":{\"symbol\":\"circle\",\"line\":{\"width\":1,\"color\":\"rgba(0, 0, 0, 1.000)\"},\"size\":8,\"color\":\"rgba(255, 0, 0, 1.000)\"}},{\"yaxis\":\"y\",\"y\":[-0.10822158666666666],\"showlegend\":true,\"name\":\"y29\",\"type\":\"scatter\",\"xaxis\":\"x\",\"colorbar\":{\"title\":\"\"},\"x\":[2.4],\"mode\":\"markers\",\"marker\":{\"symbol\":\"circle\",\"line\":{\"width\":1,\"color\":\"rgba(0, 0, 0, 1.000)\"},\"size\":8,\"color\":\"rgba(255, 0, 0, 1.000)\"}},{\"yaxis\":\"y\",\"y\":[0.20748524583333333],\"showlegend\":true,\"name\":\"y30\",\"type\":\"scatter\",\"xaxis\":\"x\",\"colorbar\":{\"title\":\"\"},\"x\":[2.45],\"mode\":\"markers\",\"marker\":{\"symbol\":\"circle\",\"line\":{\"width\":1,\"color\":\"rgba(0, 0, 0, 1.000)\"},\"size\":8,\"color\":\"rgba(255, 0, 0, 1.000)\"}},{\"yaxis\":\"y\",\"y\":[-0.01131570875],\"showlegend\":true,\"name\":\"y31\",\"type\":\"scatter\",\"xaxis\":\"x\",\"colorbar\":{\"title\":\"\"},\"x\":[2.5],\"mode\":\"markers\",\"marker\":{\"symbol\":\"circle\",\"line\":{\"width\":1,\"color\":\"rgba(0, 0, 0, 1.000)\"},\"size\":8,\"color\":\"rgba(255, 0, 0, 1.000)\"}},{\"yaxis\":\"y\",\"y\":[0.014852132083333334],\"showlegend\":true,\"name\":\"y32\",\"type\":\"scatter\",\"xaxis\":\"x\",\"colorbar\":{\"title\":\"\"},\"x\":[2.55],\"mode\":\"markers\",\"marker\":{\"symbol\":\"circle\",\"line\":{\"width\":1,\"color\":\"rgba(0, 0, 0, 1.000)\"},\"size\":8,\"color\":\"rgba(255, 0, 0, 1.000)\"}},{\"yaxis\":\"y\",\"y\":[0.02118014791666666],\"showlegend\":true,\"name\":\"y33\",\"type\":\"scatter\",\"xaxis\":\"x\",\"colorbar\":{\"title\":\"\"},\"x\":[2.6],\"mode\":\"markers\",\"marker\":{\"symbol\":\"circle\",\"line\":{\"width\":1,\"color\":\"rgba(0, 0, 0, 1.000)\"},\"size\":8,\"color\":\"rgba(255, 0, 0, 1.000)\"}},{\"yaxis\":\"y\",\"y\":[0.0190241475],\"showlegend\":true,\"name\":\"y34\",\"type\":\"scatter\",\"xaxis\":\"x\",\"colorbar\":{\"title\":\"\"},\"x\":[2.65],\"mode\":\"markers\",\"marker\":{\"symbol\":\"circle\",\"line\":{\"width\":1,\"color\":\"rgba(0, 0, 0, 1.000)\"},\"size\":8,\"color\":\"rgba(255, 0, 0, 1.000)\"}},{\"yaxis\":\"y\",\"y\":[0.008066607083333333],\"showlegend\":true,\"name\":\"y35\",\"type\":\"scatter\",\"xaxis\":\"x\",\"colorbar\":{\"title\":\"\"},\"x\":[2.7],\"mode\":\"markers\",\"marker\":{\"symbol\":\"circle\",\"line\":{\"width\":1,\"color\":\"rgba(0, 0, 0, 1.000)\"},\"size\":8,\"color\":\"rgba(255, 0, 0, 1.000)\"}},{\"yaxis\":\"y\",\"y\":[-0.01483329708333333],\"showlegend\":true,\"name\":\"y36\",\"type\":\"scatter\",\"xaxis\":\"x\",\"colorbar\":{\"title\":\"\"},\"x\":[2.75],\"mode\":\"markers\",\"marker\":{\"symbol\":\"circle\",\"line\":{\"width\":1,\"color\":\"rgba(0, 0, 0, 1.000)\"},\"size\":8,\"color\":\"rgba(255, 0, 0, 1.000)\"}},{\"yaxis\":\"y\",\"y\":[0.02188186458333333],\"showlegend\":true,\"name\":\"y37\",\"type\":\"scatter\",\"xaxis\":\"x\",\"colorbar\":{\"title\":\"\"},\"x\":[2.8],\"mode\":\"markers\",\"marker\":{\"symbol\":\"circle\",\"line\":{\"width\":1,\"color\":\"rgba(0, 0, 0, 1.000)\"},\"size\":8,\"color\":\"rgba(255, 0, 0, 1.000)\"}},{\"yaxis\":\"y\",\"y\":[-0.011133839166666666],\"showlegend\":true,\"name\":\"y38\",\"type\":\"scatter\",\"xaxis\":\"x\",\"colorbar\":{\"title\":\"\"},\"x\":[2.85],\"mode\":\"markers\",\"marker\":{\"symbol\":\"circle\",\"line\":{\"width\":1,\"color\":\"rgba(0, 0, 0, 1.000)\"},\"size\":8,\"color\":\"rgba(255, 0, 0, 1.000)\"}},{\"yaxis\":\"y\",\"y\":[0.012061414583333334],\"showlegend\":true,\"name\":\"y39\",\"type\":\"scatter\",\"xaxis\":\"x\",\"colorbar\":{\"title\":\"\"},\"x\":[2.9],\"mode\":\"markers\",\"marker\":{\"symbol\":\"circle\",\"line\":{\"width\":1,\"color\":\"rgba(0, 0, 0, 1.000)\"},\"size\":8,\"color\":\"rgba(255, 0, 0, 1.000)\"}},{\"yaxis\":\"y\",\"y\":[-0.004815057083333333],\"showlegend\":true,\"name\":\"y40\",\"type\":\"scatter\",\"xaxis\":\"x\",\"colorbar\":{\"title\":\"\"},\"x\":[2.95],\"mode\":\"markers\",\"marker\":{\"symbol\":\"circle\",\"line\":{\"width\":1,\"color\":\"rgba(0, 0, 0, 1.000)\"},\"size\":8,\"color\":\"rgba(255, 0, 0, 1.000)\"}},{\"yaxis\":\"y\",\"y\":[0.0029709525000000004],\"showlegend\":true,\"name\":\"y41\",\"type\":\"scatter\",\"xaxis\":\"x\",\"colorbar\":{\"title\":\"\"},\"x\":[3.0],\"mode\":\"markers\",\"marker\":{\"symbol\":\"circle\",\"line\":{\"width\":1,\"color\":\"rgba(0, 0, 0, 1.000)\"},\"size\":8,\"color\":\"rgba(255, 0, 0, 1.000)\"}}], {\"yaxis\":{\"type\":\"-\",\"titlefont\":{\"size\":15,\"color\":\"rgba(0, 0, 0, 1.000)\",\"family\":\"sans-serif\"},\"title\":\"<M>/spin\",\"tickfont\":{\"size\":11,\"color\":\"rgba(0, 0, 0, 1.000)\",\"family\":\"sans-serif\"},\"ticks\":\"inside\",\"tickmode\":\"array\",\"showgrid\":true,\"tickvals\":[-1.0,-0.8,-0.6000000000000001,-0.4,-0.2,0.0,0.2],\"domain\":[0.07581474190726165,0.9901574803149606],\"ticktext\":[\"-1.0\",\"-0.8\",\"-0.6\",\"-0.4\",\"-0.2\",\"0.0\",\"0.2\"],\"tickangle\":0,\"zeroline\":false,\"linecolor\":\"rgba(0, 0, 0, 1.000)\",\"tickcolor\":\"rgba(0, 0, 0, 1.000)\",\"anchor\":\"x\"},\"annotations\":[],\"width\":600,\"plot_bgcolor\":\"rgba(255, 255, 255, 1.000)\",\"showlegend\":false,\"xaxis\":{\"type\":\"-\",\"titlefont\":{\"size\":15,\"color\":\"rgba(0, 0, 0, 1.000)\",\"family\":\"sans-serif\"},\"title\":\"Temp\",\"tickfont\":{\"size\":11,\"color\":\"rgba(0, 0, 0, 1.000)\",\"family\":\"sans-serif\"},\"ticks\":\"inside\",\"tickmode\":\"array\",\"showgrid\":true,\"tickvals\":[1.0,1.5,2.0,2.5,3.0],\"domain\":[0.09128390201224845,0.9934383202099738],\"ticktext\":[\"1.0\",\"1.5\",\"2.0\",\"2.5\",\"3.0\"],\"tickangle\":0,\"zeroline\":false,\"linecolor\":\"rgba(0, 0, 0, 1.000)\",\"tickcolor\":\"rgba(0, 0, 0, 1.000)\",\"anchor\":\"y\"},\"paper_bgcolor\":\"rgba(255, 255, 255, 1.000)\",\"height\":400,\"margin\":{\"r\":0,\"l\":0,\"b\":20,\"t\":20}});\n",
       "    </script>\n"
      ]
     },
     "metadata": {},
     "output_type": "display_data"
    },
    {
     "data": {
      "text/html": [
       "<script src=\"/home/prateek/.julia/v0.5/Plots/src/backends/../../deps/plotly-latest.min.js\"></script>    <div id=\"9b63ee9f-d30b-44af-b7b8-775ddaf39975\" style=\"width:600px;height:400px;\"></div>\n",
       "    <script>\n",
       "    PLOT = document.getElementById('9b63ee9f-d30b-44af-b7b8-775ddaf39975');\n",
       "    Plotly.plot(PLOT, [{\"yaxis\":\"y\",\"y\":[9.470772475890972e-7],\"showlegend\":true,\"name\":\"y1\",\"type\":\"scatter\",\"xaxis\":\"x\",\"colorbar\":{\"title\":\"\"},\"x\":[1.0],\"mode\":\"markers\",\"marker\":{\"symbol\":\"circle\",\"line\":{\"width\":1,\"color\":\"rgba(0, 0, 0, 1.000)\"},\"size\":8,\"color\":\"rgba(0, 128, 0, 1.000)\"}},{\"yaxis\":\"y\",\"y\":[1.3259036399327146e-6],\"showlegend\":true,\"name\":\"y2\",\"type\":\"scatter\",\"xaxis\":\"x\",\"colorbar\":{\"title\":\"\"},\"x\":[1.05],\"mode\":\"markers\",\"marker\":{\"symbol\":\"circle\",\"line\":{\"width\":1,\"color\":\"rgba(0, 0, 0, 1.000)\"},\"size\":8,\"color\":\"rgba(0, 128, 0, 1.000)\"}},{\"yaxis\":\"y\",\"y\":[1.998860214148759e-6],\"showlegend\":true,\"name\":\"y3\",\"type\":\"scatter\",\"xaxis\":\"x\",\"colorbar\":{\"title\":\"\"},\"x\":[1.1],\"mode\":\"markers\",\"marker\":{\"symbol\":\"circle\",\"line\":{\"width\":1,\"color\":\"rgba(0, 0, 0, 1.000)\"},\"size\":8,\"color\":\"rgba(0, 128, 0, 1.000)\"}},{\"yaxis\":\"y\",\"y\":[2.8454074662315603e-6],\"showlegend\":true,\"name\":\"y4\",\"type\":\"scatter\",\"xaxis\":\"x\",\"colorbar\":{\"title\":\"\"},\"x\":[1.15],\"mode\":\"markers\",\"marker\":{\"symbol\":\"circle\",\"line\":{\"width\":1,\"color\":\"rgba(0, 0, 0, 1.000)\"},\"size\":8,\"color\":\"rgba(0, 128, 0, 1.000)\"}},{\"yaxis\":\"y\",\"y\":[3.752811511918234e-6],\"showlegend\":true,\"name\":\"y5\",\"type\":\"scatter\",\"xaxis\":\"x\",\"colorbar\":{\"title\":\"\"},\"x\":[1.2],\"mode\":\"markers\",\"marker\":{\"symbol\":\"circle\",\"line\":{\"width\":1,\"color\":\"rgba(0, 0, 0, 1.000)\"},\"size\":8,\"color\":\"rgba(0, 128, 0, 1.000)\"}},{\"yaxis\":\"y\",\"y\":[4.7869559415048e-6],\"showlegend\":true,\"name\":\"y6\",\"type\":\"scatter\",\"xaxis\":\"x\",\"colorbar\":{\"title\":\"\"},\"x\":[1.25],\"mode\":\"markers\",\"marker\":{\"symbol\":\"circle\",\"line\":{\"width\":1,\"color\":\"rgba(0, 0, 0, 1.000)\"},\"size\":8,\"color\":\"rgba(0, 128, 0, 1.000)\"}},{\"yaxis\":\"y\",\"y\":[6.13052916665087e-6],\"showlegend\":true,\"name\":\"y7\",\"type\":\"scatter\",\"xaxis\":\"x\",\"colorbar\":{\"title\":\"\"},\"x\":[1.3],\"mode\":\"markers\",\"marker\":{\"symbol\":\"circle\",\"line\":{\"width\":1,\"color\":\"rgba(0, 0, 0, 1.000)\"},\"size\":8,\"color\":\"rgba(0, 128, 0, 1.000)\"}},{\"yaxis\":\"y\",\"y\":[7.950743785731959e-6],\"showlegend\":true,\"name\":\"y8\",\"type\":\"scatter\",\"xaxis\":\"x\",\"colorbar\":{\"title\":\"\"},\"x\":[1.35],\"mode\":\"markers\",\"marker\":{\"symbol\":\"circle\",\"line\":{\"width\":1,\"color\":\"rgba(0, 0, 0, 1.000)\"},\"size\":8,\"color\":\"rgba(0, 128, 0, 1.000)\"}},{\"yaxis\":\"y\",\"y\":[1.1921174402787903e-5],\"showlegend\":true,\"name\":\"y9\",\"type\":\"scatter\",\"xaxis\":\"x\",\"colorbar\":{\"title\":\"\"},\"x\":[1.4],\"mode\":\"markers\",\"marker\":{\"symbol\":\"circle\",\"line\":{\"width\":1,\"color\":\"rgba(0, 0, 0, 1.000)\"},\"size\":8,\"color\":\"rgba(0, 128, 0, 1.000)\"}},{\"yaxis\":\"y\",\"y\":[1.3005071601973553e-5],\"showlegend\":true,\"name\":\"y10\",\"type\":\"scatter\",\"xaxis\":\"x\",\"colorbar\":{\"title\":\"\"},\"x\":[1.45],\"mode\":\"markers\",\"marker\":{\"symbol\":\"circle\",\"line\":{\"width\":1,\"color\":\"rgba(0, 0, 0, 1.000)\"},\"size\":8,\"color\":\"rgba(0, 128, 0, 1.000)\"}},{\"yaxis\":\"y\",\"y\":[1.6105525586704613e-5],\"showlegend\":true,\"name\":\"y11\",\"type\":\"scatter\",\"xaxis\":\"x\",\"colorbar\":{\"title\":\"\"},\"x\":[1.5],\"mode\":\"markers\",\"marker\":{\"symbol\":\"circle\",\"line\":{\"width\":1,\"color\":\"rgba(0, 0, 0, 1.000)\"},\"size\":8,\"color\":\"rgba(0, 128, 0, 1.000)\"}},{\"yaxis\":\"y\",\"y\":[2.206364946856304e-5],\"showlegend\":true,\"name\":\"y12\",\"type\":\"scatter\",\"xaxis\":\"x\",\"colorbar\":{\"title\":\"\"},\"x\":[1.55],\"mode\":\"markers\",\"marker\":{\"symbol\":\"circle\",\"line\":{\"width\":1,\"color\":\"rgba(0, 0, 0, 1.000)\"},\"size\":8,\"color\":\"rgba(0, 128, 0, 1.000)\"}},{\"yaxis\":\"y\",\"y\":[2.7793747644430655e-5],\"showlegend\":true,\"name\":\"y13\",\"type\":\"scatter\",\"xaxis\":\"x\",\"colorbar\":{\"title\":\"\"},\"x\":[1.6],\"mode\":\"markers\",\"marker\":{\"symbol\":\"circle\",\"line\":{\"width\":1,\"color\":\"rgba(0, 0, 0, 1.000)\"},\"size\":8,\"color\":\"rgba(0, 128, 0, 1.000)\"}},{\"yaxis\":\"y\",\"y\":[3.382516718919202e-5],\"showlegend\":true,\"name\":\"y14\",\"type\":\"scatter\",\"xaxis\":\"x\",\"colorbar\":{\"title\":\"\"},\"x\":[1.65],\"mode\":\"markers\",\"marker\":{\"symbol\":\"circle\",\"line\":{\"width\":1,\"color\":\"rgba(0, 0, 0, 1.000)\"},\"size\":8,\"color\":\"rgba(0, 128, 0, 1.000)\"}},{\"yaxis\":\"y\",\"y\":[4.0673451361318474e-5],\"showlegend\":true,\"name\":\"y15\",\"type\":\"scatter\",\"xaxis\":\"x\",\"colorbar\":{\"title\":\"\"},\"x\":[1.7],\"mode\":\"markers\",\"marker\":{\"symbol\":\"circle\",\"line\":{\"width\":1,\"color\":\"rgba(0, 0, 0, 1.000)\"},\"size\":8,\"color\":\"rgba(0, 128, 0, 1.000)\"}},{\"yaxis\":\"y\",\"y\":[4.9205778301887796e-5],\"showlegend\":true,\"name\":\"y16\",\"type\":\"scatter\",\"xaxis\":\"x\",\"colorbar\":{\"title\":\"\"},\"x\":[1.75],\"mode\":\"markers\",\"marker\":{\"symbol\":\"circle\",\"line\":{\"width\":1,\"color\":\"rgba(0, 0, 0, 1.000)\"},\"size\":8,\"color\":\"rgba(0, 128, 0, 1.000)\"}},{\"yaxis\":\"y\",\"y\":[6.048847614395606e-5],\"showlegend\":true,\"name\":\"y17\",\"type\":\"scatter\",\"xaxis\":\"x\",\"colorbar\":{\"title\":\"\"},\"x\":[1.8],\"mode\":\"markers\",\"marker\":{\"symbol\":\"circle\",\"line\":{\"width\":1,\"color\":\"rgba(0, 0, 0, 1.000)\"},\"size\":8,\"color\":\"rgba(0, 128, 0, 1.000)\"}},{\"yaxis\":\"y\",\"y\":[9.575253861348265e-5],\"showlegend\":true,\"name\":\"y18\",\"type\":\"scatter\",\"xaxis\":\"x\",\"colorbar\":{\"title\":\"\"},\"x\":[1.85],\"mode\":\"markers\",\"marker\":{\"symbol\":\"circle\",\"line\":{\"width\":1,\"color\":\"rgba(0, 0, 0, 1.000)\"},\"size\":8,\"color\":\"rgba(0, 128, 0, 1.000)\"}},{\"yaxis\":\"y\",\"y\":[0.00011517321505199531],\"showlegend\":true,\"name\":\"y19\",\"type\":\"scatter\",\"xaxis\":\"x\",\"colorbar\":{\"title\":\"\"},\"x\":[1.9],\"mode\":\"markers\",\"marker\":{\"symbol\":\"circle\",\"line\":{\"width\":1,\"color\":\"rgba(0, 0, 0, 1.000)\"},\"size\":8,\"color\":\"rgba(0, 128, 0, 1.000)\"}},{\"yaxis\":\"y\",\"y\":[0.00013894850046310218],\"showlegend\":true,\"name\":\"y20\",\"type\":\"scatter\",\"xaxis\":\"x\",\"colorbar\":{\"title\":\"\"},\"x\":[1.95],\"mode\":\"markers\",\"marker\":{\"symbol\":\"circle\",\"line\":{\"width\":1,\"color\":\"rgba(0, 0, 0, 1.000)\"},\"size\":8,\"color\":\"rgba(0, 128, 0, 1.000)\"}},{\"yaxis\":\"y\",\"y\":[0.00019992787020186215],\"showlegend\":true,\"name\":\"y21\",\"type\":\"scatter\",\"xaxis\":\"x\",\"colorbar\":{\"title\":\"\"},\"x\":[2.0],\"mode\":\"markers\",\"marker\":{\"symbol\":\"circle\",\"line\":{\"width\":1,\"color\":\"rgba(0, 0, 0, 1.000)\"},\"size\":8,\"color\":\"rgba(0, 128, 0, 1.000)\"}},{\"yaxis\":\"y\",\"y\":[0.0003485520650142692],\"showlegend\":true,\"name\":\"y22\",\"type\":\"scatter\",\"xaxis\":\"x\",\"colorbar\":{\"title\":\"\"},\"x\":[2.05],\"mode\":\"markers\",\"marker\":{\"symbol\":\"circle\",\"line\":{\"width\":1,\"color\":\"rgba(0, 0, 0, 1.000)\"},\"size\":8,\"color\":\"rgba(0, 128, 0, 1.000)\"}},{\"yaxis\":\"y\",\"y\":[0.00036604724068052465],\"showlegend\":true,\"name\":\"y23\",\"type\":\"scatter\",\"xaxis\":\"x\",\"colorbar\":{\"title\":\"\"},\"x\":[2.1],\"mode\":\"markers\",\"marker\":{\"symbol\":\"circle\",\"line\":{\"width\":1,\"color\":\"rgba(0, 0, 0, 1.000)\"},\"size\":8,\"color\":\"rgba(0, 128, 0, 1.000)\"}},{\"yaxis\":\"y\",\"y\":[0.0008791414204662455],\"showlegend\":true,\"name\":\"y24\",\"type\":\"scatter\",\"xaxis\":\"x\",\"colorbar\":{\"title\":\"\"},\"x\":[2.15],\"mode\":\"markers\",\"marker\":{\"symbol\":\"circle\",\"line\":{\"width\":1,\"color\":\"rgba(0, 0, 0, 1.000)\"},\"size\":8,\"color\":\"rgba(0, 128, 0, 1.000)\"}},{\"yaxis\":\"y\",\"y\":[0.0012692187259728436],\"showlegend\":true,\"name\":\"y25\",\"type\":\"scatter\",\"xaxis\":\"x\",\"colorbar\":{\"title\":\"\"},\"x\":[2.2],\"mode\":\"markers\",\"marker\":{\"symbol\":\"circle\",\"line\":{\"width\":1,\"color\":\"rgba(0, 0, 0, 1.000)\"},\"size\":8,\"color\":\"rgba(0, 128, 0, 1.000)\"}},{\"yaxis\":\"y\",\"y\":[0.003781161061970223],\"showlegend\":true,\"name\":\"y26\",\"type\":\"scatter\",\"xaxis\":\"x\",\"colorbar\":{\"title\":\"\"},\"x\":[2.25],\"mode\":\"markers\",\"marker\":{\"symbol\":\"circle\",\"line\":{\"width\":1,\"color\":\"rgba(0, 0, 0, 1.000)\"},\"size\":8,\"color\":\"rgba(0, 128, 0, 1.000)\"}},{\"yaxis\":\"y\",\"y\":[0.014760584608051065],\"showlegend\":true,\"name\":\"y27\",\"type\":\"scatter\",\"xaxis\":\"x\",\"colorbar\":{\"title\":\"\"},\"x\":[2.3],\"mode\":\"markers\",\"marker\":{\"symbol\":\"circle\",\"line\":{\"width\":1,\"color\":\"rgba(0, 0, 0, 1.000)\"},\"size\":8,\"color\":\"rgba(0, 128, 0, 1.000)\"}},{\"yaxis\":\"y\",\"y\":[0.02402669356864201],\"showlegend\":true,\"name\":\"y28\",\"type\":\"scatter\",\"xaxis\":\"x\",\"colorbar\":{\"title\":\"\"},\"x\":[2.35],\"mode\":\"markers\",\"marker\":{\"symbol\":\"circle\",\"line\":{\"width\":1,\"color\":\"rgba(0, 0, 0, 1.000)\"},\"size\":8,\"color\":\"rgba(0, 128, 0, 1.000)\"}},{\"yaxis\":\"y\",\"y\":[0.01927894153795412],\"showlegend\":true,\"name\":\"y29\",\"type\":\"scatter\",\"xaxis\":\"x\",\"colorbar\":{\"title\":\"\"},\"x\":[2.4],\"mode\":\"markers\",\"marker\":{\"symbol\":\"circle\",\"line\":{\"width\":1,\"color\":\"rgba(0, 0, 0, 1.000)\"},\"size\":8,\"color\":\"rgba(0, 128, 0, 1.000)\"}},{\"yaxis\":\"y\",\"y\":[0.015692946453622687],\"showlegend\":true,\"name\":\"y30\",\"type\":\"scatter\",\"xaxis\":\"x\",\"colorbar\":{\"title\":\"\"},\"x\":[2.45],\"mode\":\"markers\",\"marker\":{\"symbol\":\"circle\",\"line\":{\"width\":1,\"color\":\"rgba(0, 0, 0, 1.000)\"},\"size\":8,\"color\":\"rgba(0, 128, 0, 1.000)\"}},{\"yaxis\":\"y\",\"y\":[0.009364447832863923],\"showlegend\":true,\"name\":\"y31\",\"type\":\"scatter\",\"xaxis\":\"x\",\"colorbar\":{\"title\":\"\"},\"x\":[2.5],\"mode\":\"markers\",\"marker\":{\"symbol\":\"circle\",\"line\":{\"width\":1,\"color\":\"rgba(0, 0, 0, 1.000)\"},\"size\":8,\"color\":\"rgba(0, 128, 0, 1.000)\"}},{\"yaxis\":\"y\",\"y\":[0.01187632536076691],\"showlegend\":true,\"name\":\"y32\",\"type\":\"scatter\",\"xaxis\":\"x\",\"colorbar\":{\"title\":\"\"},\"x\":[2.55],\"mode\":\"markers\",\"marker\":{\"symbol\":\"circle\",\"line\":{\"width\":1,\"color\":\"rgba(0, 0, 0, 1.000)\"},\"size\":8,\"color\":\"rgba(0, 128, 0, 1.000)\"}},{\"yaxis\":\"y\",\"y\":[0.005803829143956187],\"showlegend\":true,\"name\":\"y33\",\"type\":\"scatter\",\"xaxis\":\"x\",\"colorbar\":{\"title\":\"\"},\"x\":[2.6],\"mode\":\"markers\",\"marker\":{\"symbol\":\"circle\",\"line\":{\"width\":1,\"color\":\"rgba(0, 0, 0, 1.000)\"},\"size\":8,\"color\":\"rgba(0, 128, 0, 1.000)\"}},{\"yaxis\":\"y\",\"y\":[0.006446755073831395],\"showlegend\":true,\"name\":\"y34\",\"type\":\"scatter\",\"xaxis\":\"x\",\"colorbar\":{\"title\":\"\"},\"x\":[2.65],\"mode\":\"markers\",\"marker\":{\"symbol\":\"circle\",\"line\":{\"width\":1,\"color\":\"rgba(0, 0, 0, 1.000)\"},\"size\":8,\"color\":\"rgba(0, 128, 0, 1.000)\"}},{\"yaxis\":\"y\",\"y\":[0.005409601917575624],\"showlegend\":true,\"name\":\"y35\",\"type\":\"scatter\",\"xaxis\":\"x\",\"colorbar\":{\"title\":\"\"},\"x\":[2.7],\"mode\":\"markers\",\"marker\":{\"symbol\":\"circle\",\"line\":{\"width\":1,\"color\":\"rgba(0, 0, 0, 1.000)\"},\"size\":8,\"color\":\"rgba(0, 128, 0, 1.000)\"}},{\"yaxis\":\"y\",\"y\":[0.004548607396153308],\"showlegend\":true,\"name\":\"y36\",\"type\":\"scatter\",\"xaxis\":\"x\",\"colorbar\":{\"title\":\"\"},\"x\":[2.75],\"mode\":\"markers\",\"marker\":{\"symbol\":\"circle\",\"line\":{\"width\":1,\"color\":\"rgba(0, 0, 0, 1.000)\"},\"size\":8,\"color\":\"rgba(0, 128, 0, 1.000)\"}},{\"yaxis\":\"y\",\"y\":[0.0044043768097284195],\"showlegend\":true,\"name\":\"y37\",\"type\":\"scatter\",\"xaxis\":\"x\",\"colorbar\":{\"title\":\"\"},\"x\":[2.8],\"mode\":\"markers\",\"marker\":{\"symbol\":\"circle\",\"line\":{\"width\":1,\"color\":\"rgba(0, 0, 0, 1.000)\"},\"size\":8,\"color\":\"rgba(0, 128, 0, 1.000)\"}},{\"yaxis\":\"y\",\"y\":[0.003395151031541085],\"showlegend\":true,\"name\":\"y38\",\"type\":\"scatter\",\"xaxis\":\"x\",\"colorbar\":{\"title\":\"\"},\"x\":[2.85],\"mode\":\"markers\",\"marker\":{\"symbol\":\"circle\",\"line\":{\"width\":1,\"color\":\"rgba(0, 0, 0, 1.000)\"},\"size\":8,\"color\":\"rgba(0, 128, 0, 1.000)\"}},{\"yaxis\":\"y\",\"y\":[0.0029489986195827458],\"showlegend\":true,\"name\":\"y39\",\"type\":\"scatter\",\"xaxis\":\"x\",\"colorbar\":{\"title\":\"\"},\"x\":[2.9],\"mode\":\"markers\",\"marker\":{\"symbol\":\"circle\",\"line\":{\"width\":1,\"color\":\"rgba(0, 0, 0, 1.000)\"},\"size\":8,\"color\":\"rgba(0, 128, 0, 1.000)\"}},{\"yaxis\":\"y\",\"y\":[0.002783788870306779],\"showlegend\":true,\"name\":\"y40\",\"type\":\"scatter\",\"xaxis\":\"x\",\"colorbar\":{\"title\":\"\"},\"x\":[2.95],\"mode\":\"markers\",\"marker\":{\"symbol\":\"circle\",\"line\":{\"width\":1,\"color\":\"rgba(0, 0, 0, 1.000)\"},\"size\":8,\"color\":\"rgba(0, 128, 0, 1.000)\"}},{\"yaxis\":\"y\",\"y\":[0.002192615552224511],\"showlegend\":true,\"name\":\"y41\",\"type\":\"scatter\",\"xaxis\":\"x\",\"colorbar\":{\"title\":\"\"},\"x\":[3.0],\"mode\":\"markers\",\"marker\":{\"symbol\":\"circle\",\"line\":{\"width\":1,\"color\":\"rgba(0, 0, 0, 1.000)\"},\"size\":8,\"color\":\"rgba(0, 128, 0, 1.000)\"}}], {\"yaxis\":{\"type\":\"-\",\"titlefont\":{\"size\":15,\"color\":\"rgba(0, 0, 0, 1.000)\",\"family\":\"sans-serif\"},\"title\":\"<x>/spin\",\"tickfont\":{\"size\":11,\"color\":\"rgba(0, 0, 0, 1.000)\",\"family\":\"sans-serif\"},\"ticks\":\"inside\",\"tickmode\":\"array\",\"showgrid\":true,\"tickvals\":[0.0,0.005,0.01,0.015,0.02],\"domain\":[0.07581474190726165,0.9901574803149606],\"ticktext\":[\"0.000\",\"0.005\",\"0.010\",\"0.015\",\"0.020\"],\"tickangle\":0,\"zeroline\":false,\"linecolor\":\"rgba(0, 0, 0, 1.000)\",\"tickcolor\":\"rgba(0, 0, 0, 1.000)\",\"anchor\":\"x\"},\"annotations\":[],\"width\":600,\"plot_bgcolor\":\"rgba(255, 255, 255, 1.000)\",\"showlegend\":false,\"xaxis\":{\"type\":\"-\",\"titlefont\":{\"size\":15,\"color\":\"rgba(0, 0, 0, 1.000)\",\"family\":\"sans-serif\"},\"title\":\"Temp\",\"tickfont\":{\"size\":11,\"color\":\"rgba(0, 0, 0, 1.000)\",\"family\":\"sans-serif\"},\"ticks\":\"inside\",\"tickmode\":\"array\",\"showgrid\":true,\"tickvals\":[1.0,1.5,2.0,2.5,3.0],\"domain\":[0.10609871682706327,0.9934383202099737],\"ticktext\":[\"1.0\",\"1.5\",\"2.0\",\"2.5\",\"3.0\"],\"tickangle\":0,\"zeroline\":false,\"linecolor\":\"rgba(0, 0, 0, 1.000)\",\"tickcolor\":\"rgba(0, 0, 0, 1.000)\",\"anchor\":\"y\"},\"paper_bgcolor\":\"rgba(255, 255, 255, 1.000)\",\"height\":400,\"margin\":{\"r\":0,\"l\":0,\"b\":20,\"t\":20}});\n",
       "    </script>\n"
      ]
     },
     "metadata": {},
     "output_type": "display_data"
    },
    {
     "name": "stdout",
     "output_type": "stream",
     "text": [
      "3\n",
      "FINISHED!"
     ]
    }
   ],
   "source": [
    "n_grid=40;    #Lattice Size\n",
    "L=1000000;    #MC Steps\n",
    "J=1;          #J Constant\n",
    "P=3           #Production Runs\n",
    "Tmin=1;     #Minimum Temp       \n",
    "Tinc=0.05;    #Increment in Temp\n",
    "Tmax=3;       #Maximum Temp\n",
    "\n",
    "gridqm, Ts, len = ising_over_temp(n_grid,J,L,Tmin,Tinc,Tmax)\n",
    "\n",
    "Mp=zeros(P,len);\n",
    "x=zeros(P,len);\n",
    "\n",
    "for Pr in 1:P\n",
    "    print(\"production run = \",Pr,\"\\n\")\n",
    "    for h in 1:len\n",
    "        gridpr,Ms,xs = Production(n_grid,Ts[1,h],J,L,gridqm[1,h])\n",
    "        #print(h,\"\\n\")\n",
    "        Mp[Pr,h] = Ms;\n",
    "        x[Pr,h] = xs;\n",
    "    end\n",
    "end\n",
    "\n",
    "Mp_avg=mean(Mp,1);\n",
    "x_avg=mean(x,1);\n",
    "\n",
    "\n",
    "\n",
    "using Plots\n",
    "plt1 = Plots.scatter(Ts,Mp_avg,color=\"red\",legend=false,xaxis=\"Temp\",yaxis=\"<M>/spin\");\n",
    "plt2 = Plots.scatter(Ts,x_avg,color=\"green\", reuse= false,legend=false,xaxis=\"Temp\",yaxis=\"<x>/spin\");\n",
    "display(plt1)\n",
    "display(plt2)\n",
    "\n",
    "print(\"FINISHED!\")"
   ]
  },
  {
   "cell_type": "code",
   "execution_count": null,
   "metadata": {
    "collapsed": true
   },
   "outputs": [],
   "source": []
  }
 ],
 "metadata": {
  "kernelspec": {
   "display_name": "Julia 0.5.2",
   "language": "julia",
   "name": "julia-0.5"
  },
  "language_info": {
   "file_extension": ".jl",
   "mimetype": "application/julia",
   "name": "julia",
   "version": "0.5.2"
  }
 },
 "nbformat": 4,
 "nbformat_minor": 2
}
