{
 "cells": [
  {
   "cell_type": "code",
   "execution_count": 5,
   "metadata": {},
   "outputs": [
    {
     "name": "stdout",
     "output_type": "stream",
     "text": [
      "12Finished"
     ]
    }
   ],
   "source": [
    "using Images\n",
    "using JLD\n",
    "#dir=Dates.format(now(), \"yyyy-mm-dd HH:MM:SS\")\n",
    "dir=rand()\n",
    "\n",
    "\n",
    "@load(\"grid.jld\")\n",
    "\n",
    "n_grid=55\n",
    "T=1.9\n",
    "J=1.0\n",
    "L=1000000\n",
    "E_steps=20000000\n",
    "\n",
    "include(\"equilibration.jl\")\n",
    "include(\"production.jl\")\n",
    "\n",
    "\n",
    "grid,steps=Equilibration(n_grid,T,J,E_steps)\n",
    "#correlation = Array{Float64}(11,n_grid-1)\n",
    "print(1)\n",
    "#for r in 1:n_grid-1\n",
    "gridpr,corr=Production(n_grid,T,J,L,grid)\n",
    "    #correlation[:,r]=corr\n",
    "#end\n",
    "print(2)\n",
    "#correlation=transpose(correlation)\n",
    "# plot(x=convert(Array,1:convert(Int64,ceil(n_grid/2))-2),y=correlation[:,5],Geom.point,Geom.line)\n",
    "corr=transpose(corr)\n",
    "\n",
    "if isdefined(Symbol(\"grid$n_grid\")) == true\n",
    "    file=jldopen(\"grid.jld\",\"r+\")\n",
    "    delete!(file,\"grid$n_grid\")\n",
    "    write(file,\"grid$n_grid\",grid)\n",
    "    close(file)\n",
    "else\n",
    "    file=jldopen(\"grid.jld\",\"r+\")\n",
    "    write(file,\"grid$n_grid\",grid)\n",
    "    close(file)\n",
    "end\n",
    "\n",
    "mkpath(\"Data/$n_grid/$dir\")\n",
    "fid=open(\"Data/$n_grid/$dir/r_corrfunc.dat\",\"w\")\n",
    "writecsv(fid, corr)\n",
    "close(fid)\n",
    "\n",
    "save(\"Data/$n_grid/$dir/grid.png\",(grid/2)+0.5)\n",
    "\n",
    "fid=open(\"Data/$n_grid/$dir/sys_details.dat\",\"w\")\n",
    "@printf(fid,\"%s %s\\r\\n\",\"Date/Time : \",Dates.format(now(), \"yyyy-mm-dd HH:MM:SS\"));\n",
    "@printf(fid,\"%s %f\\r\\n\",\"J=\",J);\n",
    "@printf(fid,\"%s %u\\r\\n\",\"Lattice Size=\",n_grid);\n",
    "@printf(fid,\"%s %f\\r\\n\",\"temperature = \",T);\n",
    "@printf(fid,\"%s %f\\r\\n\",\"Number of equilibration steps = \",E_steps);\n",
    "# @printf(fid,\"%s %f\\r\\n\",\"Maximum temperature = \",Tmax);\n",
    "# @printf(fid,\"%s %f\\r\\n\",\"Increment in temperature = \",Tinc);\n",
    "# @printf(fid,\"%s %u\\r\\n\",\"No.of Production run = \",P);\n",
    "@printf(fid,\"%s %u\\r\\n\",\"No.of steps in production run = \",L);\n",
    "# @printf(fid,\"%s\\r\\n\",\"Data:\");\n",
    "# @printf(fid,\"%6s %12s %14s\\r\\n\\r\\n\",\"r (distance)\",\"Correlation function\",\"Error\");\n",
    "close(fid)\n",
    "print(\"Finished\")"
   ]
  },
  {
   "cell_type": "code",
   "execution_count": 9,
   "metadata": {},
   "outputs": [
    {
     "data": {
      "image/png": "[encoded data removed]",
      "text/plain": [
       "55×55 Array{Gray{Float64},2}:\n",
       " Gray{Float64}(1.0)   Gray{Float64}(1.0)   …  Gray{Float64}(1.0) \n",
       " Gray{Float64}(1.0)   Gray{Float64}(1.0)      Gray{Float64}(1.0) \n",
       " Gray{Float64}(1.0)   Gray{Float64}(1.0)      Gray{Float64}(1.0) \n",
       " Gray{Float64}(1.0)   Gray{Float64}(1.0)      Gray{Float64}(1.0) \n",
       " Gray{Float64}(1.0)   Gray{Float64}(1.0)      Gray{Float64}(1.0) \n",
       " Gray{Float64}(1.0)   Gray{Float64}(1.0)   …  Gray{Float64}(1.0) \n",
       " Gray{Float64}(1.0)   Gray{Float64}(-1.0)     Gray{Float64}(1.0) \n",
       " Gray{Float64}(-1.0)  Gray{Float64}(1.0)      Gray{Float64}(1.0) \n",
       " Gray{Float64}(1.0)   Gray{Float64}(1.0)      Gray{Float64}(1.0) \n",
       " Gray{Float64}(1.0)   Gray{Float64}(1.0)      Gray{Float64}(1.0) \n",
       " Gray{Float64}(1.0)   Gray{Float64}(1.0)   …  Gray{Float64}(1.0) \n",
       " Gray{Float64}(1.0)   Gray{Float64}(1.0)      Gray{Float64}(1.0) \n",
       " Gray{Float64}(1.0)   Gray{Float64}(1.0)      Gray{Float64}(1.0) \n",
       " ⋮                                         ⋱                     \n",
       " Gray{Float64}(-1.0)  Gray{Float64}(-1.0)     Gray{Float64}(-1.0)\n",
       " Gray{Float64}(-1.0)  Gray{Float64}(-1.0)     Gray{Float64}(-1.0)\n",
       " Gray{Float64}(-1.0)  Gray{Float64}(-1.0)  …  Gray{Float64}(-1.0)\n",
       " Gray{Float64}(-1.0)  Gray{Float64}(-1.0)     Gray{Float64}(-1.0)\n",
       " Gray{Float64}(-1.0)  Gray{Float64}(1.0)      Gray{Float64}(-1.0)\n",
       " Gray{Float64}(-1.0)  Gray{Float64}(-1.0)     Gray{Float64}(-1.0)\n",
       " Gray{Float64}(-1.0)  Gray{Float64}(-1.0)     Gray{Float64}(-1.0)\n",
       " Gray{Float64}(-1.0)  Gray{Float64}(-1.0)  …  Gray{Float64}(-1.0)\n",
       " Gray{Float64}(-1.0)  Gray{Float64}(-1.0)     Gray{Float64}(-1.0)\n",
       " Gray{Float64}(-1.0)  Gray{Float64}(-1.0)     Gray{Float64}(-1.0)\n",
       " Gray{Float64}(-1.0)  Gray{Float64}(-1.0)     Gray{Float64}(-1.0)\n",
       " Gray{Float64}(-1.0)  Gray{Float64}(-1.0)     Gray{Float64}(-1.0)"
      ]
     },
     "execution_count": 9,
     "metadata": {},
     "output_type": "execute_result"
    }
   ],
   "source": [
    "using Colors\n",
    "Gray.(grid55)"
   ]
  },
  {
   "cell_type": "code",
   "execution_count": 8,
   "metadata": {},
   "outputs": [
    {
     "data": {
      "text/plain": [
       "13-element Array{Symbol,1}:\n",
       " :grid10 \n",
       " :grid100\n",
       " :grid101\n",
       " :grid11 \n",
       " :grid15 \n",
       " :grid151\n",
       " :grid153\n",
       " :grid201\n",
       " :grid35 \n",
       " :grid50 \n",
       " :grid55 \n",
       " :grid65 \n",
       " :grid75 "
      ]
     },
     "execution_count": 8,
     "metadata": {},
     "output_type": "execute_result"
    }
   ],
   "source": [
    "using JLD\n",
    "@load(\"grid.jld\")"
   ]
  },
  {
   "cell_type": "code",
   "execution_count": 1,
   "metadata": {},
   "outputs": [
    {
     "ename": "LoadError",
     "evalue": "\u001b[91mUndefVarError: corr not defined\u001b[39m",
     "output_type": "error",
     "traceback": [
      "\u001b[91mUndefVarError: corr not defined\u001b[39m",
      "",
      "Stacktrace:",
      " [1] \u001b[1minclude_string\u001b[22m\u001b[22m\u001b[1m(\u001b[22m\u001b[22m::String, ::String\u001b[1m)\u001b[22m\u001b[22m at \u001b[1m./loading.jl:522\u001b[22m\u001b[22m"
     ]
    }
   ],
   "source": [
    "corr"
   ]
  },
  {
   "cell_type": "code",
   "execution_count": 9,
   "metadata": {},
   "outputs": [
    {
     "name": "stdout",
     "output_type": "stream",
     "text": [
      "Finished"
     ]
    }
   ],
   "source": [
    "using Images\n",
    "using JLD\n",
    "using Colors\n",
    "#dir=Dates.format(now(), \"yyyy-mm-dd HH:MM:SS\")\n",
    "dir=rand()\n",
    "\n",
    "\n",
    "@load(\"grid.jld\")\n",
    "\n",
    "n_grid=35\n",
    "T=2.0\n",
    "J=1.0\n",
    "#L=10\n",
    "E_steps=1000000\n",
    "\n",
    "include(\"equilibration.jl\")\n",
    "#include(\"production.jl\")\n",
    "\n",
    "\n",
    "grid,steps=Equilibration(n_grid,T,J,E_steps)\n",
    "#correlation = Array{Float64}(11,n_grid-1)\n",
    "#print(1)\n",
    "#for r in 1:n_grid-1\n",
    "#gridpr,corr=Production(n_grid,T,J,L,grid)\n",
    "    #correlation[:,r]=corr\n",
    "#end\n",
    "#print(2)\n",
    "#correlation=transpose(correlation)\n",
    "# plot(x=convert(Array,1:convert(Int64,ceil(n_grid/2))-2),y=correlation[:,5],Geom.point,Geom.line)\n",
    "#corr=transpose(corr)\n",
    "\n",
    "if isdefined(Symbol(\"grid$n_grid\")) == true\n",
    "    file=jldopen(\"grid.jld\",\"r+\")\n",
    "    delete!(file,\"grid$n_grid\")\n",
    "    write(file,\"grid$n_grid\",grid)\n",
    "    close(file)\n",
    "else\n",
    "    file=jldopen(\"grid.jld\",\"r+\")\n",
    "    write(file,\"grid$n_grid\",grid)\n",
    "    close(file)\n",
    "end\n",
    "\n",
    "mkpath(\"Data/$n_grid/$dir\")\n",
    "#fid=open(\"Data/$n_grid/$dir/r_corrfunc.dat\",\"w\")\n",
    "#writecsv(fid, corr)\n",
    "#close(fid)\n",
    "\n",
    "save(\"Data/$n_grid/$dir/grid.png\",(grid/2)+0.5)\n",
    "\n",
    "fid=open(\"Data/$n_grid/$dir/sys_details.dat\",\"w\")\n",
    "@printf(fid,\"%s %s\\r\\n\",\"Date/Time : \",Dates.format(now(), \"yyyy-mm-dd HH:MM:SS\"));\n",
    "@printf(fid,\"%s %f\\r\\n\",\"J=\",J);\n",
    "@printf(fid,\"%s %u\\r\\n\",\"Lattice Size=\",n_grid);\n",
    "@printf(fid,\"%s %f\\r\\n\",\"temperature = \",T);\n",
    "@printf(fid,\"%s %f\\r\\n\",\"Number of equilibration steps = \",E_steps);\n",
    "# @printf(fid,\"%s %f\\r\\n\",\"Maximum temperature = \",Tmax);\n",
    "# @printf(fid,\"%s %f\\r\\n\",\"Increment in temperature = \",Tinc);\n",
    "# @printf(fid,\"%s %u\\r\\n\",\"No.of Production run = \",P);\n",
    "#@printf(fid,\"%s %u\\r\\n\",\"No.of steps in production run = \",L);\n",
    "# @printf(fid,\"%s\\r\\n\",\"Data:\");\n",
    "# @printf(fid,\"%6s %12s %14s\\r\\n\\r\\n\",\"r (distance)\",\"Correlation function\",\"Error\");\n",
    "close(fid)\n",
    "print(\"Finished\")"
   ]
  },
  {
   "cell_type": "code",
   "execution_count": null,
   "metadata": {},
   "outputs": [],
   "source": []
  }
 ],
 "metadata": {
  "kernelspec": {
   "display_name": "Julia 0.6.2",
   "language": "julia",
   "name": "julia-0.6"
  },
  "language_info": {
   "file_extension": ".jl",
   "mimetype": "application/julia",
   "name": "julia",
   "version": "0.6.2"
  }
 },
 "nbformat": 4,
 "nbformat_minor": 2
}
