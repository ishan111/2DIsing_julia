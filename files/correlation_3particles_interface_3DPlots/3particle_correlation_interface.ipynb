{
 "cells": [
  {
   "cell_type": "code",
   "execution_count": 4,
   "metadata": {},
   "outputs": [
    {
     "name": "stdout",
     "output_type": "stream",
     "text": [
      "12Finished"
     ]
    }
   ],
   "source": [
    "using Images\n",
    "using JLD\n",
    "using MAT\n",
    "#dir=Dates.format(now(), \"yyyy-mm-dd HH:MM:SS\")\n",
    "dir=rand()\n",
    "\n",
    "\n",
    "@load(\"grid.jld\")\n",
    "\n",
    "n_grid=55\n",
    "\n",
    "T=1.7\n",
    "J=1.0\n",
    "J_A_A=1\n",
    "J_B_B=0\n",
    "J_C_C=1\n",
    "J_A_B,J_B_A=0,0\n",
    "J_C_B,J_B_C=0.9,0.9\n",
    "J_C_A,J_A_C=-1,-1\n",
    "#L=10\n",
    "#z=1\n",
    "E_steps=20000000   #number of steps for Equilibrium\n",
    "L=1000000    #number of steps for zero particle density calculations\n",
    "\n",
    "\n",
    "include(\"equilibration.jl\")\n",
    "include(\"production.jl\")\n",
    "\n",
    "\n",
    "grid,steps=Equilibration(n_grid::Int64,T::Float64,J::Float64,E_steps,J_B_B,J_B_A,J_B_C,J_A_B,J_A_A,J_A_C,J_C_B,J_C_A,J_C_C)\n",
    "#correlation = Array{Float64}(11,n_grid-1)\n",
    "print(1)\n",
    "#for r in 1:n_grid-1\n",
    "grid,corr, x_1, x_2=Production(n_grid,grid,T,J,L,J_B_B,J_B_A,J_B_C,J_A_B,J_A_A,J_A_C,J_C_B,J_C_A,J_C_C)\n",
    "    #correlation[:,r]=corr\n",
    "#end\n",
    "print(2)\n",
    "#correlation=transpose(correlation)\n",
    "# plot(x=convert(Array,1:convert(Int64,ceil(n_grid/2))-2),y=correlation[:,5],Geom.point,Geom.line)\n",
    "#corr=transpose(corr)\n",
    "\n",
    "if isdefined(Symbol(\"grid$n_grid\")) == true\n",
    "    file=jldopen(\"grid.jld\",\"r+\")\n",
    "    delete!(file,\"grid$n_grid\")\n",
    "    write(file,\"grid$n_grid\",grid)\n",
    "    close(file)\n",
    "else\n",
    "    file=jldopen(\"grid.jld\",\"r+\")\n",
    "    write(file,\"grid$n_grid\",grid)\n",
    "    close(file)\n",
    "end\n",
    "\n",
    "mkpath(\"Data/$n_grid/$dir\")\n",
    "fid=open(\"Data/$n_grid/$dir/r_corrfunc.dat\",\"w\")\n",
    "writecsv(fid, corr)\n",
    "close(fid)\n",
    "\n",
    "file = matopen(\"Data/$n_grid/$dir/matfile.mat\", \"w\")\n",
    "write(file, \"corr\", corr)\n",
    "write(file,\"x_1\",x_1)\n",
    "write(file,\"x_2\",x_2)\n",
    "close(file)\n",
    "\n",
    "save(\"Data/$n_grid/$dir/grid.png\",(grid/2)+0.5)\n",
    "\n",
    "fid=open(\"Data/$n_grid/$dir/sys_details.dat\",\"w\")\n",
    "@printf(fid,\"%s %s\\r\\n\",\"Date/Time : \",Dates.format(now(), \"yyyy-mm-dd HH:MM:SS\"));\n",
    "@printf(fid,\"%s %f\\r\\n\",\"J=\",J);\n",
    "@printf(fid,\"%s %u\\r\\n\",\"Lattice Size=\",n_grid);\n",
    "@printf(fid,\"%s %f\\r\\n\",\"temperature = \",T);\n",
    "@printf(fid,\"%s %f\\r\\n\",\"Number of equilibration steps = \",E_steps);\n",
    "# @printf(fid,\"%s %f\\r\\n\",\"Maximum temperature = \",Tmax);\n",
    "# @printf(fid,\"%s %f\\r\\n\",\"Increment in temperature = \",Tinc);\n",
    "# @printf(fid,\"%s %u\\r\\n\",\"No.of Production run = \",P);\n",
    "@printf(fid,\"%s %u\\r\\n\",\"No.of steps in production run = \",L);\n",
    "# @printf(fid,\"%s\\r\\n\",\"Data:\");\n",
    "# @printf(fid,\"%6s %12s %14s\\r\\n\\r\\n\",\"r (distance)\",\"Correlation function\",\"Error\");\n",
    "close(fid)\n",
    "print(\"Finished\")"
   ]
  },
  {
   "cell_type": "code",
   "execution_count": 2,
   "metadata": {},
   "outputs": [
    {
     "data": {
      "image/png": "[encoded data removed]",
      "text/plain": [
       "15×15 Array{Gray{Float64},2}:\n",
       " Gray{Float64}(1.0)  Gray{Float64}(1.0)  …  Gray{Float64}(1.0)\n",
       " Gray{Float64}(1.0)  Gray{Float64}(1.0)     Gray{Float64}(1.0)\n",
       " Gray{Float64}(1.0)  Gray{Float64}(1.0)     Gray{Float64}(1.0)\n",
       " Gray{Float64}(1.0)  Gray{Float64}(1.0)     Gray{Float64}(1.0)\n",
       " Gray{Float64}(1.0)  Gray{Float64}(1.0)     Gray{Float64}(1.0)\n",
       " Gray{Float64}(1.0)  Gray{Float64}(1.0)  …  Gray{Float64}(1.0)\n",
       " Gray{Float64}(1.0)  Gray{Float64}(1.0)     Gray{Float64}(1.0)\n",
       " Gray{Float64}(1.0)  Gray{Float64}(1.0)     Gray{Float64}(1.0)\n",
       " Gray{Float64}(1.0)  Gray{Float64}(1.0)     Gray{Float64}(1.0)\n",
       " Gray{Float64}(0.0)  Gray{Float64}(0.0)     Gray{Float64}(0.0)\n",
       " Gray{Float64}(0.0)  Gray{Float64}(0.0)  …  Gray{Float64}(0.0)\n",
       " Gray{Float64}(0.0)  Gray{Float64}(0.0)     Gray{Float64}(0.0)\n",
       " Gray{Float64}(0.0)  Gray{Float64}(0.0)     Gray{Float64}(0.0)\n",
       " Gray{Float64}(0.0)  Gray{Float64}(0.0)     Gray{Float64}(0.0)\n",
       " Gray{Float64}(0.0)  Gray{Float64}(0.0)     Gray{Float64}(0.0)"
      ]
     },
     "execution_count": 2,
     "metadata": {},
     "output_type": "execute_result"
    }
   ],
   "source": [
    "using Colors\n",
    "Gray.((grid15/2)+0.5)"
   ]
  },
  {
   "cell_type": "code",
   "execution_count": null,
   "metadata": {},
   "outputs": [],
   "source": [
    "using JLD\n",
    "@load(\"grid.jld\")"
   ]
  },
  {
   "cell_type": "code",
   "execution_count": null,
   "metadata": {},
   "outputs": [],
   "source": [
    "n_grid=10 \n",
    "grid=rand(n_grid,n_grid)\n",
    "    for i in 1:n_grid^2\n",
    "        if i%2==0\n",
    "            grid[i]=1\n",
    "        else \n",
    "            grid[i]=-1\n",
    "        end\n",
    "    end\n",
    "    #for i in 1:z\n",
    "     #  if i%2==0\n",
    "      #      while true\n",
    "       #     r_3=rand(2:n_grid-1)\n",
    "        #    c_3=rand(1:n_grid)\n",
    "         #   if grid[r_3,c_3]==1\n",
    "          #      grid[r_3,c_3]=0\n",
    "           #     break\n",
    "            #end\n",
    "            #end\n",
    "        #else\n",
    "         #   while true\n",
    "          #  r_3=rand(2:n_grid-1)\n",
    "           # c_3=rand(1:n_grid)\n",
    "    #        if grid[r_3,c_3]==-1\n",
    "     #           grid[r_3,c_3]=0\n",
    "      #          break\n",
    "       #     end\n",
    "        #    end\n",
    "        #end \n",
    "    #end\n",
    "    grid[convert(Int,ceil(n_grid/2)),convert(Int,ceil(n_grid/2))]=0"
   ]
  },
  {
   "cell_type": "code",
   "execution_count": null,
   "metadata": {},
   "outputs": [],
   "source": [
    "corr"
   ]
  },
  {
   "cell_type": "code",
   "execution_count": null,
   "metadata": {},
   "outputs": [],
   "source": [
    "using MAT\n",
    "@load(\"Data/$n_grid/$dir/matfile.mat\")"
   ]
  },
  {
   "cell_type": "code",
   "execution_count": null,
   "metadata": {},
   "outputs": [],
   "source": []
  }
 ],
 "metadata": {
  "kernelspec": {
   "display_name": "Julia 0.6.2",
   "language": "julia",
   "name": "julia-0.6"
  },
  "language_info": {
   "file_extension": ".jl",
   "mimetype": "application/julia",
   "name": "julia",
   "version": "0.6.2"
  }
 },
 "nbformat": 4,
 "nbformat_minor": 2
}
